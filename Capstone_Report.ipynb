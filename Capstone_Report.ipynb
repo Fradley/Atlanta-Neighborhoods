{
 "cells": [
  {
   "cell_type": "markdown",
   "metadata": {},
   "source": [
    "# Applied Data Science Capstone"
   ]
  },
  {
   "cell_type": "markdown",
   "metadata": {},
   "source": [
    "## Introduction"
   ]
  },
  {
   "cell_type": "markdown",
   "metadata": {},
   "source": [
    "In my scenario, I am interested in finding an ideal neighborhood for a late-night French Fry Boutique. Even in Atlanta, there are few late night food options and there is potential for demand. This hypothetical french fry boutique would feature items ranging from about $5-15 and we will focus on snack and comfort food rather than entrees, for the sake of defining our business."
   ]
  },
  {
   "cell_type": "markdown",
   "metadata": {},
   "source": [
    "To guide enquiry, we will lead with a few hypotheses and verify them as best as we can with available data.\n",
    "### Positive Influencers\n",
    "* Proximity to younger areas, high schools, and colleges\n",
    "* Affluent area\n",
    "* Local bars and late-night attractions\n",
    "* Lots of pedestrians\n",
    "    * Area should be known as generally safe\n",
    "    * Pedestrians new to the store may be more willing to stop in and grab a snack  \n",
    "    \n",
    "### Negative Influencers  \n",
    "\n",
    "* Fast Food\n",
    "    * May lose potential new customers if they compare our fries 'with the works' to a chain's $0.99 box of fries"
   ]
  },
  {
   "cell_type": "markdown",
   "metadata": {},
   "source": [
    "## Data"
   ]
  },
  {
   "cell_type": "markdown",
   "metadata": {},
   "source": [
    "We will be using several datasets to evaluate our hypotheses above and answer our ultimate question.\n",
    "* [GeoJson](https://github.com/blackmad/neighborhoods) to map the neighborhood borders in Folium\n",
    "* Data concerning various statistics about the neighborhoods\n",
    "    * I have already scraped the data from [here](http://www.city-data.com/nbmaps/neigh-Atlanta-Georgia.html) and saved it to a csv file 'atl_neighborhoods.csv\"\n",
    "* Data gathered from Foursquare\n",
    "    * Discover information about potential competitors to confirm, deny, or modify our hypotheses\n",
    "    * Determine companion shops via clustering to generate viable neighborhoods\n",
    "* [Crime data](http://www.atlantapd.org/i-want-to/crime-data-downloads) to evaluate safety"
   ]
  },
  {
   "cell_type": "code",
   "execution_count": null,
   "metadata": {},
   "outputs": [],
   "source": []
  }
 ],
 "metadata": {
  "kernelspec": {
   "display_name": "Python 3",
   "language": "python",
   "name": "python3"
  },
  "language_info": {
   "codemirror_mode": {
    "name": "ipython",
    "version": 3
   },
   "file_extension": ".py",
   "mimetype": "text/x-python",
   "name": "python",
   "nbconvert_exporter": "python",
   "pygments_lexer": "ipython3",
   "version": "3.7.1"
  }
 },
 "nbformat": 4,
 "nbformat_minor": 2
}
