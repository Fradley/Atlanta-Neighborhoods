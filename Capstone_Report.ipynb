{
 "cells": [
  {
   "cell_type": "markdown",
   "metadata": {},
   "source": [
    "# Applied Data Science Capstone"
   ]
  },
  {
   "cell_type": "markdown",
   "metadata": {},
   "source": [
    "## Introduction"
   ]
  },
  {
   "cell_type": "markdown",
   "metadata": {},
   "source": [
    "In my scenario, I am interested in finding an ideal neighborhood for a late-night French Fry Boutique. Even in Atlanta, there are few late night food options and there is potential for demand. This hypothetical french fry boutique would feature items ranging from about $5-15 and we will focus on snack and comfort food rather than entrees, for the sake of defining our business."
   ]
  },
  {
   "cell_type": "markdown",
   "metadata": {},
   "source": [
    "To guide enquiry, we will lead with a few hypotheses and verify them as best as we can with available data.\n",
    "### Positive Influencers\n",
    "* Proximity to younger areas, high schools, and colleges\n",
    "* Affluent area\n",
    "* Local bars and late-night attractions\n",
    "* Lots of pedestrians\n",
    "    * Area should be known as generally safe\n",
    "    * Pedestrians new to the store may be more willing to stop in and grab a snack  \n",
    "    \n",
    "### Negative Influencers  \n",
    "\n",
    "* Fast Food\n",
    "    * May lose potential new customers if they compare our fries 'with the works' to a chain's $0.99 box of fries"
   ]
  },
  {
   "cell_type": "markdown",
   "metadata": {},
   "source": [
    "## Data"
   ]
  },
  {
   "cell_type": "markdown",
   "metadata": {},
   "source": [
    "We will be using several datasets to evaluate our hypotheses above and answer our ultimate question.\n",
    "* NPU json to map the statistical regions (NPU.json)\n",
    "* Data concerning various statistics about the neighborhoods (NPU_DATA.csv)\n",
    "* Data gathered from Foursquare (venues.csv)\n",
    "    * Discover information about potential competitors to confirm, deny, or modify our hypotheses\n",
    "    * Determine companion shops via clustering to generate viable neighborhoods\n",
    "* [Crime data](http://www.atlantapd.org/i-want-to/crime-data-downloads) to evaluate safety (COBRA-2019.csv)"
   ]
  },
  {
   "cell_type": "code",
   "execution_count": 1,
   "metadata": {},
   "outputs": [],
   "source": [
    "import pandas as pd\n",
    "import os"
   ]
  },
  {
   "cell_type": "code",
   "execution_count": 10,
   "metadata": {},
   "outputs": [],
   "source": [
    "npu = os.path.join('Data', 'NPU_DATA.csv')\n",
    "crime = os.path.join('Data', 'COBRA-2019.csv')\n",
    "venues = os.path.join('Data', 'venues.csv')\n",
    "\n",
    "venues_df = pd.read_csv(venues)\n",
    "venues_df = venues_df.drop('Unnamed: 0', 1)\n",
    "npu_df = pd.read_csv(npu)\n",
    "npu_df = npu_df.drop('Unnamed: 0', 1)\n",
    "crime_df = pd.read_csv(crime)"
   ]
  },
  {
   "cell_type": "code",
   "execution_count": 11,
   "metadata": {},
   "outputs": [
    {
     "name": "stdout",
     "output_type": "stream",
     "text": [
      "<class 'pandas.core.frame.DataFrame'>\n",
      "RangeIndex: 102 entries, 0 to 101\n",
      "Data columns (total 13 columns):\n",
      "NPU                                                                 102 non-null object\n",
      "Count, Total population, 2015                                       102 non-null int64\n",
      "Median, Median age (years), 2015                                    101 non-null float64\n",
      "Median, Median value of owner-occupied unit (dollars), 2015         101 non-null float64\n",
      "Median, Median gross rent (dollars), 2015                           101 non-null float64\n",
      "Median, Median household Income, 2015                               100 non-null float64\n",
      "Percent, Public transportation (excluding taxicab) to work, 2015    101 non-null float64\n",
      "Percent, Walked to work, 2015                                       101 non-null float64\n",
      "Percent, Other means to work, 2015                                  101 non-null float64\n",
      "Crime Count                                                         102 non-null int64\n",
      "Neighborhood                                                        102 non-null object\n",
      "Location                                                            102 non-null object\n",
      "Coordinate                                                          102 non-null object\n",
      "dtypes: float64(7), int64(2), object(4)\n",
      "memory usage: 10.4+ KB\n"
     ]
    }
   ],
   "source": [
    "npu_df.info()"
   ]
  },
  {
   "cell_type": "code",
   "execution_count": 12,
   "metadata": {},
   "outputs": [
    {
     "name": "stdout",
     "output_type": "stream",
     "text": [
      "<class 'pandas.core.frame.DataFrame'>\n",
      "RangeIndex: 3658 entries, 0 to 3657\n",
      "Data columns (total 7 columns):\n",
      "Neighborhood              3658 non-null object\n",
      "Neighborhood Latitude     3658 non-null float64\n",
      "Neighborhood Longitude    3658 non-null float64\n",
      "Venue                     3658 non-null object\n",
      "Venue Latitude            3658 non-null float64\n",
      "Venue Longitude           3658 non-null float64\n",
      "Venue Category            3658 non-null object\n",
      "dtypes: float64(4), object(3)\n",
      "memory usage: 200.1+ KB\n"
     ]
    }
   ],
   "source": [
    "venues_df.info()"
   ]
  },
  {
   "cell_type": "code",
   "execution_count": 13,
   "metadata": {},
   "outputs": [
    {
     "name": "stdout",
     "output_type": "stream",
     "text": [
      "<class 'pandas.core.frame.DataFrame'>\n",
      "RangeIndex: 6349 entries, 0 to 6348\n",
      "Data columns (total 19 columns):\n",
      "Report Number              6349 non-null int64\n",
      "Report Date                6349 non-null object\n",
      "Occur Date                 6349 non-null object\n",
      "Occur Time                 6349 non-null object\n",
      "Possible Date              6349 non-null object\n",
      "Possible Time              6349 non-null int64\n",
      "Beat                       6343 non-null float64\n",
      "Apartment Office Prefix    164 non-null object\n",
      "Apartment Number           1119 non-null object\n",
      "Location                   6349 non-null object\n",
      "Shift Occurrence           6349 non-null object\n",
      "Location Type              5916 non-null object\n",
      "UCR Literal                6349 non-null object\n",
      "UCR #                      6349 non-null int64\n",
      "IBR Code                   6349 non-null object\n",
      "Neighborhood               6115 non-null object\n",
      "NPU                        6346 non-null object\n",
      "Latitude                   6349 non-null float64\n",
      "Longitude                  6349 non-null float64\n",
      "dtypes: float64(3), int64(3), object(13)\n",
      "memory usage: 942.5+ KB\n"
     ]
    }
   ],
   "source": [
    "crime_df.info()"
   ]
  },
  {
   "cell_type": "markdown",
   "metadata": {},
   "source": [
    "I've overlaid the crime data onto the statistical regions."
   ]
  },
  {
   "cell_type": "code",
   "execution_count": 14,
   "metadata": {},
   "outputs": [
    {
     "data": {
      "text/html": [
       "\n",
       "        <iframe\n",
       "            width=\"1000\"\n",
       "            height=\"1000\"\n",
       "            src=\"Figures/atl_crime_map.html\"\n",
       "            frameborder=\"0\"\n",
       "            allowfullscreen\n",
       "        ></iframe>\n",
       "        "
      ],
      "text/plain": [
       "<IPython.lib.display.IFrame at 0x7fab59b0c358>"
      ]
     },
     "execution_count": 14,
     "metadata": {},
     "output_type": "execute_result"
    }
   ],
   "source": [
    "import IPython\n",
    "crime_map = os.path.join('Figures', 'atl_crime_map.html')\n",
    "IPython.display.IFrame(crime_map, 1000, 1000)"
   ]
  },
  {
   "cell_type": "markdown",
   "metadata": {},
   "source": [
    "## Methodology"
   ]
  },
  {
   "cell_type": "markdown",
   "metadata": {},
   "source": [
    "### Safety"
   ]
  },
  {
   "cell_type": "markdown",
   "metadata": {},
   "source": [
    "We evaluated a neighborhood's safety by counting the number of violent crimes in a region. Because we are interested in the perceived danger of a region, the total number of violent crimes is more relevant than the per capita representation. We then had to broadcast the number of crimes down to the individual neighborhoods, which subdivide the neighborhood planning units."
   ]
  },
  {
   "cell_type": "markdown",
   "metadata": {},
   "source": [
    "### Attractions"
   ]
  },
  {
   "cell_type": "markdown",
   "metadata": {},
   "source": [
    "We were able to determine the attractions for each neighborhood by first using Google Maps API to determine the representative coordinates for each neighborhood. We then used the representative point to find all attractions within a certain radius (1 km). We determined compatible attractions and used those to define a classification of whether an area was a good candidate for our restaurant."
   ]
  },
  {
   "cell_type": "markdown",
   "metadata": {},
   "source": [
    "### Analysis"
   ]
  },
  {
   "cell_type": "markdown",
   "metadata": {},
   "source": [
    "We scaled the data so it could be used by our machine learning algorithms. We began by trying a similar procedure as the Toronto neighborhoods project. Unfortunately, we were unable to generate good clusters when looked at with silhouette analysis. The solution was to refine the question to a classification problem rather than clustering. The similar venue categories were determined to be: 'Gastropub', 'Burger Joint', 'Candy Store', 'Dive Bar', 'Fish & Chips Shop', 'Fried Chicken Joint'. Notable exceptions are various cultural and fast food categories. By training a K-Nearest Neighbors model on the combined Neighborhoods and venues datasets, we could filter most of the neighborhoods. Finally, we gathered the result by assigning importance to low age, low crime, and high income."
   ]
  },
  {
   "cell_type": "markdown",
   "metadata": {},
   "source": [
    "## Results"
   ]
  },
  {
   "cell_type": "code",
   "execution_count": 17,
   "metadata": {},
   "outputs": [
    {
     "data": {
      "text/html": [
       "<div>\n",
       "<style scoped>\n",
       "    .dataframe tbody tr th:only-of-type {\n",
       "        vertical-align: middle;\n",
       "    }\n",
       "\n",
       "    .dataframe tbody tr th {\n",
       "        vertical-align: top;\n",
       "    }\n",
       "\n",
       "    .dataframe thead th {\n",
       "        text-align: right;\n",
       "    }\n",
       "</style>\n",
       "<table border=\"1\" class=\"dataframe\">\n",
       "  <thead>\n",
       "    <tr style=\"text-align: right;\">\n",
       "      <th></th>\n",
       "      <th>Name</th>\n",
       "      <th>Crime Count</th>\n",
       "      <th>Population</th>\n",
       "      <th>Median Age</th>\n",
       "      <th>Median House Value</th>\n",
       "      <th>Median Rent</th>\n",
       "      <th>Median Household Income</th>\n",
       "      <th>Public Transit</th>\n",
       "      <th>Walk</th>\n",
       "      <th>Other transit</th>\n",
       "    </tr>\n",
       "  </thead>\n",
       "  <tbody>\n",
       "    <tr>\n",
       "      <th>0</th>\n",
       "      <td>Atlanta University Center</td>\n",
       "      <td>177</td>\n",
       "      <td>7091</td>\n",
       "      <td>20.5</td>\n",
       "      <td>156008.0</td>\n",
       "      <td>829.0</td>\n",
       "      <td>27742.0</td>\n",
       "      <td>0.120</td>\n",
       "      <td>0.297</td>\n",
       "      <td>0.016</td>\n",
       "    </tr>\n",
       "    <tr>\n",
       "      <th>1</th>\n",
       "      <td>Thomasville Heights</td>\n",
       "      <td>136</td>\n",
       "      <td>2988</td>\n",
       "      <td>21.1</td>\n",
       "      <td>82332.0</td>\n",
       "      <td>736.0</td>\n",
       "      <td>10480.0</td>\n",
       "      <td>0.242</td>\n",
       "      <td>0.005</td>\n",
       "      <td>0.000</td>\n",
       "    </tr>\n",
       "    <tr>\n",
       "      <th>2</th>\n",
       "      <td>Home Park</td>\n",
       "      <td>587</td>\n",
       "      <td>5420</td>\n",
       "      <td>24.1</td>\n",
       "      <td>211485.0</td>\n",
       "      <td>1248.0</td>\n",
       "      <td>44207.0</td>\n",
       "      <td>0.048</td>\n",
       "      <td>0.225</td>\n",
       "      <td>0.041</td>\n",
       "    </tr>\n",
       "    <tr>\n",
       "      <th>3</th>\n",
       "      <td>Atlantic Station</td>\n",
       "      <td>587</td>\n",
       "      <td>4120</td>\n",
       "      <td>27.1</td>\n",
       "      <td>257667.0</td>\n",
       "      <td>1190.0</td>\n",
       "      <td>46956.0</td>\n",
       "      <td>0.028</td>\n",
       "      <td>0.056</td>\n",
       "      <td>0.033</td>\n",
       "    </tr>\n",
       "    <tr>\n",
       "      <th>4</th>\n",
       "      <td>Browns Mill Park</td>\n",
       "      <td>136</td>\n",
       "      <td>4661</td>\n",
       "      <td>29.7</td>\n",
       "      <td>83727.0</td>\n",
       "      <td>820.0</td>\n",
       "      <td>22507.0</td>\n",
       "      <td>0.250</td>\n",
       "      <td>0.001</td>\n",
       "      <td>0.020</td>\n",
       "    </tr>\n",
       "  </tbody>\n",
       "</table>\n",
       "</div>"
      ],
      "text/plain": [
       "                        Name  Crime Count  Population  Median Age  \\\n",
       "0  Atlanta University Center          177        7091        20.5   \n",
       "1        Thomasville Heights          136        2988        21.1   \n",
       "2                  Home Park          587        5420        24.1   \n",
       "3           Atlantic Station          587        4120        27.1   \n",
       "4           Browns Mill Park          136        4661        29.7   \n",
       "\n",
       "   Median House Value  Median Rent  Median Household Income  Public Transit  \\\n",
       "0            156008.0        829.0                  27742.0           0.120   \n",
       "1             82332.0        736.0                  10480.0           0.242   \n",
       "2            211485.0       1248.0                  44207.0           0.048   \n",
       "3            257667.0       1190.0                  46956.0           0.028   \n",
       "4             83727.0        820.0                  22507.0           0.250   \n",
       "\n",
       "    Walk  Other transit  \n",
       "0  0.297          0.016  \n",
       "1  0.005          0.000  \n",
       "2  0.225          0.041  \n",
       "3  0.056          0.033  \n",
       "4  0.001          0.020  "
      ]
     },
     "execution_count": 17,
     "metadata": {},
     "output_type": "execute_result"
    }
   ],
   "source": [
    "resultpath = os.path.join('Data', 'Result.csv')\n",
    "result = pd.read_csv(resultpath)\n",
    "result = result.drop('Unnamed: 0', 1)\n",
    "result"
   ]
  },
  {
   "cell_type": "markdown",
   "metadata": {},
   "source": [
    "These results yield areas near "
   ]
  }
 ],
 "metadata": {
  "kernelspec": {
   "display_name": "Python 3",
   "language": "python",
   "name": "python3"
  },
  "language_info": {
   "codemirror_mode": {
    "name": "ipython",
    "version": 3
   },
   "file_extension": ".py",
   "mimetype": "text/x-python",
   "name": "python",
   "nbconvert_exporter": "python",
   "pygments_lexer": "ipython3",
   "version": "3.7.1"
  }
 },
 "nbformat": 4,
 "nbformat_minor": 2
}
