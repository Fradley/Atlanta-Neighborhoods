{
 "cells": [
  {
   "cell_type": "code",
   "execution_count": 1,
   "metadata": {},
   "outputs": [],
   "source": [
    "import requests\n",
    "from bs4 import BeautifulSoup\n",
    "import re\n",
    "import pandas as pd\n",
    "import numpy as np"
   ]
  },
  {
   "cell_type": "markdown",
   "metadata": {},
   "source": [
    "Start by grabbing our webpage"
   ]
  },
  {
   "cell_type": "code",
   "execution_count": 2,
   "metadata": {},
   "outputs": [],
   "source": [
    "urls = ['http://www.city-data.com/nbmaps/neigh-Atlanta-Georgia.html', 'http://www.city-data.com/nbmaps/neigh-Atlanta-Georgia2.html']\n",
    "html_data = []\n",
    "for i in urls:\n",
    "    page = requests.get(i)\n",
    "    soup = BeautifulSoup(page.text, 'html.parser')\n",
    "    html_data += soup.find_all('div', class_='neighborhood')"
   ]
  },
  {
   "cell_type": "markdown",
   "metadata": {},
   "source": [
    "Everything below is essentially preprocessing. The data is not laid out nicely for us so we have to prepare it to be processed."
   ]
  },
  {
   "cell_type": "code",
   "execution_count": 3,
   "metadata": {},
   "outputs": [],
   "source": [
    "data = [i.text.replace(',', '').split('\\n') for i in html_data]\n",
    "x = list(data)\n",
    "for i in range(0, len(data)):\n",
    "    data[i] = data[i][:2]\n",
    "    data[i][0] = data[i][0][:data[i][0].find(' neighborhood')]\n",
    "    subdat = re.split(\"%\\)(?!.*%\\))\", data[i][1])\n",
    "    data[i][1:] = re.split(r'Most ', subdat[0])[:3]\n",
    "    if len(data[i]) < 4:\n",
    "        data[i] = None\n",
    "newdat = []\n",
    "for x in data:\n",
    "    if x:\n",
    "        newdat.append(x)\n",
    "data = list(newdat)"
   ]
  },
  {
   "cell_type": "markdown",
   "metadata": {},
   "source": [
    "Now we can use more regular expressions to process our data and generate our columns."
   ]
  },
  {
   "cell_type": "code",
   "execution_count": 4,
   "metadata": {},
   "outputs": [],
   "source": [
    "atl_data = [['Neighborhood', 'Area', 'Population', 'Median Income', 'Median Rent', 'Num Males', 'Num Females', 'Median Age Male', 'Median Age Female']]\n",
    "for i in data:\n",
    "    row = [i[0]]\n",
    "    row.append(re.search(r'(?<=Area: )[0-9.]*', i[1])[0])\n",
    "    row.append(re.search(r'(?<=Population: )[0-9.]*', i[1])[0])\n",
    "    income = re.search(r'(?<=Median household income in 2016: ' + i[0] + r':\\$)[0-9\\.]*', i[1])\n",
    "    if income:\n",
    "        income = income[0]\n",
    "    rent = re.search(r'(?<=Median rent in in 2016: ' + i[0] + r':\\$)[0-9\\.]*', i[1])\n",
    "    if rent:\n",
    "        rent = rent[0]\n",
    "    male = re.findall(r'(?<=Males:)[0-9.]*', i[1])\n",
    "    num_male = None\n",
    "    num_female = None\n",
    "    age_male = None\n",
    "    age_female = None\n",
    "    if len(male) >= 2:\n",
    "        num_male = male[0]\n",
    "        age_male = male[1]\n",
    "    female = re.findall(r'(?<=Females:)[0-9.]*', i[1])\n",
    "    if len(female) >= 2: \n",
    "        num_female = female[0]\n",
    "        age_female = female[1]\n",
    "    row += [income, rent, num_male, num_female, age_male, age_female]\n",
    "    atl_data.append(row)"
   ]
  },
  {
   "cell_type": "markdown",
   "metadata": {},
   "source": [
    "Load the data into a dataframe."
   ]
  },
  {
   "cell_type": "code",
   "execution_count": 5,
   "metadata": {},
   "outputs": [],
   "source": [
    "df = pd.DataFrame(columns=atl_data[0], data=atl_data[1:])"
   ]
  },
  {
   "cell_type": "markdown",
   "metadata": {},
   "source": [
    "Everything looks pretty good. We'll have to decide what to do about NaNs later."
   ]
  },
  {
   "cell_type": "code",
   "execution_count": 6,
   "metadata": {},
   "outputs": [
    {
     "data": {
      "text/html": [
       "<div>\n",
       "<style scoped>\n",
       "    .dataframe tbody tr th:only-of-type {\n",
       "        vertical-align: middle;\n",
       "    }\n",
       "\n",
       "    .dataframe tbody tr th {\n",
       "        vertical-align: top;\n",
       "    }\n",
       "\n",
       "    .dataframe thead th {\n",
       "        text-align: right;\n",
       "    }\n",
       "</style>\n",
       "<table border=\"1\" class=\"dataframe\">\n",
       "  <thead>\n",
       "    <tr style=\"text-align: right;\">\n",
       "      <th></th>\n",
       "      <th>Neighborhood</th>\n",
       "      <th>Area</th>\n",
       "      <th>Population</th>\n",
       "      <th>Median Income</th>\n",
       "      <th>Median Rent</th>\n",
       "      <th>Num Males</th>\n",
       "      <th>Num Females</th>\n",
       "      <th>Median Age Male</th>\n",
       "      <th>Median Age Female</th>\n",
       "    </tr>\n",
       "  </thead>\n",
       "  <tbody>\n",
       "    <tr>\n",
       "      <th>0</th>\n",
       "      <td>26th Street/Ardmore</td>\n",
       "      <td>0.070</td>\n",
       "      <td>341</td>\n",
       "      <td>66548</td>\n",
       "      <td>1113</td>\n",
       "      <td>170</td>\n",
       "      <td>170</td>\n",
       "      <td>31.5</td>\n",
       "      <td>29.3</td>\n",
       "    </tr>\n",
       "    <tr>\n",
       "      <th>1</th>\n",
       "      <td>Aberdeen Forest</td>\n",
       "      <td>0.322</td>\n",
       "      <td>705</td>\n",
       "      <td>82962</td>\n",
       "      <td>1259</td>\n",
       "      <td>274</td>\n",
       "      <td>430</td>\n",
       "      <td>36.3</td>\n",
       "      <td>37.4</td>\n",
       "    </tr>\n",
       "    <tr>\n",
       "      <th>2</th>\n",
       "      <td>Adair Park</td>\n",
       "      <td>0.375</td>\n",
       "      <td>1645</td>\n",
       "      <td>24874</td>\n",
       "      <td>626</td>\n",
       "      <td>760</td>\n",
       "      <td>885</td>\n",
       "      <td>34.2</td>\n",
       "      <td>39.7</td>\n",
       "    </tr>\n",
       "    <tr>\n",
       "      <th>3</th>\n",
       "      <td>Adamsville</td>\n",
       "      <td>0.995</td>\n",
       "      <td>3734</td>\n",
       "      <td>24372</td>\n",
       "      <td>593</td>\n",
       "      <td>1407</td>\n",
       "      <td>2326</td>\n",
       "      <td>20.6</td>\n",
       "      <td>33.2</td>\n",
       "    </tr>\n",
       "    <tr>\n",
       "      <th>4</th>\n",
       "      <td>Amberidge</td>\n",
       "      <td>0.177</td>\n",
       "      <td>313</td>\n",
       "      <td>137237</td>\n",
       "      <td>2581</td>\n",
       "      <td>147</td>\n",
       "      <td>166</td>\n",
       "      <td>52.1</td>\n",
       "      <td>49.0</td>\n",
       "    </tr>\n",
       "    <tr>\n",
       "      <th>5</th>\n",
       "      <td>Ansley Park</td>\n",
       "      <td>0.589</td>\n",
       "      <td>2188</td>\n",
       "      <td>81342</td>\n",
       "      <td>1097</td>\n",
       "      <td>1030</td>\n",
       "      <td>1158</td>\n",
       "      <td>40.8</td>\n",
       "      <td>40.1</td>\n",
       "    </tr>\n",
       "    <tr>\n",
       "      <th>6</th>\n",
       "      <td>Arden Habersham</td>\n",
       "      <td>0.220</td>\n",
       "      <td>242</td>\n",
       "      <td>250001</td>\n",
       "      <td>1100</td>\n",
       "      <td>143</td>\n",
       "      <td>99</td>\n",
       "      <td>40.7</td>\n",
       "      <td>49.7</td>\n",
       "    </tr>\n",
       "    <tr>\n",
       "      <th>7</th>\n",
       "      <td>Arrowood Drive Neighbourhood</td>\n",
       "      <td>0.188</td>\n",
       "      <td>512</td>\n",
       "      <td>None</td>\n",
       "      <td>None</td>\n",
       "      <td>197</td>\n",
       "      <td>314</td>\n",
       "      <td>36.6</td>\n",
       "      <td>43.8</td>\n",
       "    </tr>\n",
       "    <tr>\n",
       "      <th>8</th>\n",
       "      <td>Ashford Park</td>\n",
       "      <td>1.677</td>\n",
       "      <td>2928</td>\n",
       "      <td>75381</td>\n",
       "      <td>1042</td>\n",
       "      <td>1628</td>\n",
       "      <td>1299</td>\n",
       "      <td>33.5</td>\n",
       "      <td>33.5</td>\n",
       "    </tr>\n",
       "    <tr>\n",
       "      <th>9</th>\n",
       "      <td>Atkins Park</td>\n",
       "      <td>0.046</td>\n",
       "      <td>452</td>\n",
       "      <td>63580</td>\n",
       "      <td>796</td>\n",
       "      <td>232</td>\n",
       "      <td>219</td>\n",
       "      <td>39.3</td>\n",
       "      <td>36.5</td>\n",
       "    </tr>\n",
       "  </tbody>\n",
       "</table>\n",
       "</div>"
      ],
      "text/plain": [
       "                   Neighborhood   Area Population Median Income Median Rent  \\\n",
       "0           26th Street/Ardmore  0.070        341         66548        1113   \n",
       "1               Aberdeen Forest  0.322        705         82962        1259   \n",
       "2                    Adair Park  0.375       1645         24874         626   \n",
       "3                    Adamsville  0.995       3734         24372         593   \n",
       "4                     Amberidge  0.177        313        137237        2581   \n",
       "5                   Ansley Park  0.589       2188         81342        1097   \n",
       "6               Arden Habersham  0.220        242        250001        1100   \n",
       "7  Arrowood Drive Neighbourhood  0.188        512          None        None   \n",
       "8                  Ashford Park  1.677       2928         75381        1042   \n",
       "9                   Atkins Park  0.046        452         63580         796   \n",
       "\n",
       "  Num Males Num Females Median Age Male Median Age Female  \n",
       "0       170         170            31.5              29.3  \n",
       "1       274         430            36.3              37.4  \n",
       "2       760         885            34.2              39.7  \n",
       "3      1407        2326            20.6              33.2  \n",
       "4       147         166            52.1              49.0  \n",
       "5      1030        1158            40.8              40.1  \n",
       "6       143          99            40.7              49.7  \n",
       "7       197         314            36.6              43.8  \n",
       "8      1628        1299            33.5              33.5  \n",
       "9       232         219            39.3              36.5  "
      ]
     },
     "execution_count": 6,
     "metadata": {},
     "output_type": "execute_result"
    }
   ],
   "source": [
    "df.head(10)"
   ]
  },
  {
   "cell_type": "markdown",
   "metadata": {},
   "source": [
    "Save csv to minimize requests."
   ]
  },
  {
   "cell_type": "code",
   "execution_count": 7,
   "metadata": {},
   "outputs": [],
   "source": [
    "df.to_csv('atl_neighborhoods.csv')"
   ]
  },
  {
   "cell_type": "code",
   "execution_count": null,
   "metadata": {},
   "outputs": [],
   "source": []
  }
 ],
 "metadata": {
  "kernelspec": {
   "display_name": "Python 3",
   "language": "python",
   "name": "python3"
  },
  "language_info": {
   "codemirror_mode": {
    "name": "ipython",
    "version": 3
   },
   "file_extension": ".py",
   "mimetype": "text/x-python",
   "name": "python",
   "nbconvert_exporter": "python",
   "pygments_lexer": "ipython3",
   "version": "3.7.1"
  }
 },
 "nbformat": 4,
 "nbformat_minor": 2
}
